{
  "cells": [
    {
      "cell_type": "markdown",
      "metadata": {
        "id": "view-in-github",
        "colab_type": "text"
      },
      "source": [
        "<a href=\"https://colab.research.google.com/github/LcsNunes/LcsNunes.github.io/blob/main/Ol%C3%A1%2C_este_%C3%A9_o_Colaboratory.ipynb\" target=\"_parent\"><img src=\"https://colab.research.google.com/assets/colab-badge.svg\" alt=\"Open In Colab\"/></a>"
      ]
    },
    {
      "cell_type": "code",
      "source": [
        "import math\n",
        "num = float(input(\"Favor Usuário insira um número inteiro para saber sua raiz quadrada :\"))\n",
        "raiz = math.sqrt(num)\n",
        "print(f' A Raiz quadrada de {num} é {raiz}')\n"
      ],
      "metadata": {
        "id": "jogr_iPqJ8Iy",
        "outputId": "baf0b9b5-315c-4a3f-fd8d-32334597d30c",
        "colab": {
          "base_uri": "https://localhost:8080/"
        }
      },
      "execution_count": 114,
      "outputs": [
        {
          "output_type": "stream",
          "name": "stdout",
          "text": [
            "Favor Usuário insira um número inteiro para saber sua raiz quadrada :9\n",
            " A Raiz quadrada de 9.0 é 3.0\n"
          ]
        }
      ]
    },
    {
      "cell_type": "code",
      "execution_count": 23,
      "metadata": {
        "colab": {
          "base_uri": "https://localhost:8080/",
          "height": 0
        },
        "id": "gJr_9dXGpJ05",
        "outputId": "fc33a7a8-816b-4445-f2f0-bb30cb7ee99d"
      },
      "outputs": [
        {
          "output_type": "stream",
          "name": "stdout",
          "text": [
            "Digite um número inteiro que você quer elevar ao quadrado : 9\n",
            "O quadrado de 9 é :81.0\n"
          ]
        }
      ],
      "source": [
        "num = input(\"Digite um número inteiro que você quer elevar ao quadrado : \")\n",
        "quadrado = float(num)** 2\n",
        "print(f'O quadrado de {num} é :{quadrado}')\n"
      ]
    },
    {
      "cell_type": "code",
      "source": [
        "\n",
        "\n"
      ],
      "metadata": {
        "id": "QWf3YcttPthc"
      },
      "execution_count": 108,
      "outputs": []
    },
    {
      "cell_type": "code",
      "source": [
        "num = float(input(\"Olá, usuário digite o seu primeiro valor:\"))\n",
        "num1 = float(input(\"Olá, usuário digite seu segundo valor:\"))\n",
        "media = (num + num1) /2\n",
        "print(\"A média dos seus dois valores é :\", media)"
      ],
      "metadata": {
        "id": "Jv786IMvQZMg",
        "outputId": "4ae961ec-1f64-41ce-b902-19c6c5c9995f",
        "colab": {
          "base_uri": "https://localhost:8080/"
        }
      },
      "execution_count": 109,
      "outputs": [
        {
          "output_type": "stream",
          "name": "stdout",
          "text": [
            "Olá, usuário digite o seu primeiro valor:10\n",
            "Olá, usuário digite seu segundo valor:5\n",
            "A média dos seus dois valores é : 7.5\n"
          ]
        }
      ]
    },
    {
      "cell_type": "code",
      "source": [],
      "metadata": {
        "id": "rRkCWM-ZWGBe"
      },
      "execution_count": 85,
      "outputs": []
    }
  ],
  "metadata": {
    "colab": {
      "collapsed_sections": [],
      "name": "Olá, este é o Colaboratory",
      "provenance": [],
      "include_colab_link": true
    },
    "kernelspec": {
      "display_name": "Python 3",
      "name": "python3"
    }
  },
  "nbformat": 4,
  "nbformat_minor": 0
}